{
 "cells": [
  {
   "cell_type": "markdown",
   "metadata": {},
   "source": [
    "# SMART CONTRACT BASED CROSS-BORDER BANKS SETTLEMENT\n",
    "    Presenter: Junru LIN & Dinglun JI \n"
   ]
  },
  {
   "cell_type": "markdown",
   "metadata": {},
   "source": [
    "# Background\n",
    "   Cross-border transactions often relies on multiple financial institutions (Bank) as a bridge to settle between client's accounts. The intermediary-settlement process will introduce the following pain points:\n",
    "    - High transaction cost \n",
    "    - Long settlement time\n",
    "    - Foreign exchange rate risk\n",
    "    \n",
    "   \n",
    "   \n",
    "Here is an illustrative example of two multinational corporations operating in the ASEAN region using local small\n",
    "banks with no direct-dollar correspondent network. For a 2,950 dollar payment(or THB100,000) from Alpha Corp in Thailand to Beta Corp in Indonesia, Alpha Corp incurs a transaction cost of $40 excluding FX costs by going through multiple intermediaries and facing high foreign exchange (FX) spreads, all while incurring liquidity costs along the payment chain. Additionally, different cut-off times, processing speeds, and compliance standards across the intermediary banks in the various jurisdictions can incur further delays in the settlement process. Alpha Corp and the banks upstream are also exposed to settlement risks if the banks downstream fail to execute their obligations. Alpha Corp does not have full control over the correspondent banking structure, the validation processes, nor complete visibility of the payment status once the transaction is initiated, incurring an additional layer\n",
    "of uncertainty.\n",
    "\n",
    "![示例图片](./interbank.png)\n",
    "\n",
    "\n",
    "\n",
    "\n",
    "\n",
    "\n",
    "\n",
    "Reference:\n",
    "\n",
    "https://www.oliverwyman.com/our-expertise/insights/2021/nov/unlocking-120-billion-value-in-cross-border-payments.html\n",
    "\n",
    "https://www.bis.org/publ/othp40.pdf\n",
    "\n",
    "https://www.bis.org/innovation_hub/projects/mbridge_brochure_2311.pdf"
   ]
  },
  {
   "cell_type": "markdown",
   "metadata": {},
   "source": [
    "# Solution\n",
    "\n",
    "We aim to use smart contract to provide the bridge for cross-border banks. Use smart contract to create a central bank to connect banks from different countries. Cross-border bank can settle accounts within smart-contract central bank framework.\n",
    "\n",
    "![示例图片](./solution.png)\n"
   ]
  },
  {
   "cell_type": "markdown",
   "metadata": {},
   "source": [
    "## Step 1. Register address as a Central Bank real-time gross settlement (RTGS) system \n",
    "\n",
    "Functions of a central bank RTGS:\n",
    "\n",
    "- Bridge between two commercial banks (eg. China, US)\n",
    "- Settlement of the cross-border user's transactions and interbank transactions\n",
    "- Record-keeping between two commercial banks (wholesale level)\n",
    "\n",
    "The contract of the central bank is shown below. In this lab session, due to the time limit, central bank account is fixed to TA's account. You can simulate the central bank function after class if interested. The central bank contract address is:\n",
    "\n",
    "CENTRAL_BANK_RTGS_CONTRACT_ADDRESS: 0x7280d935178eCb823066B0A92832EF646d1EC37B\n"
   ]
  },
  {
   "cell_type": "markdown",
   "metadata": {},
   "source": [
    "![示例图片](./central_bank.png)"
   ]
  },
  {
   "cell_type": "markdown",
   "metadata": {},
   "source": [
    "# Step 2. Register address as commercial bank and Register RTGS\n",
    "\n",
    "In this class, we will register two commercial bank, one represent a commercial bank in China (BANK_CHINA), and the other represent a commercial bank in the US (BANK_US). The cross-border transfer will need BANK_CHINA and BANK_US to register the RTGS system for account settlement. In this lab, we will use Junru's and Dinglun's account to be BANK_CHINA and BANK_US (becuase we are the richest sepolia ETH accounts). The two verified contract address are: \n",
    "\n",
    "BANK_CHINA_CONTRACT_ADDRESS: 0xDa32419480B8C0C799A71663e3586EfEd017e28a\n",
    "\n",
    "BANK_US_CONTRACT_ADDRESS: 0x0F7fe14b6BCd968aB96B9A070176FD80bBc743A0\n",
    "\n",
    "\n",
    "![示例图片](./comm_bank.png)"
   ]
  },
  {
   "cell_type": "markdown",
   "metadata": {},
   "source": [
    "# Step 3. Todo: Reister address as user and open account in commercial bank\n",
    "\n",
    "a). Open account at BANK_CHINA or BANK_US\n",
    "\n",
    "b). Deposit certain amount in commercial bank as account balance (later for cross-border transfer)\n",
    "    - requirement1. deposit amount >= 2 Ether\n",
    "    - requirement2. has to be an integer\n",
    "\n",
    "c). Show account list and balance\n",
    "\n",
    "![示例图片](./deposit.png)\n",
    "\n",
    "\n"
   ]
  },
  {
   "cell_type": "markdown",
   "metadata": {},
   "source": [
    "# Step 4. Todo: Transfer money to your friend \n",
    "\n",
    "We have collected your wallet secretly (not by hacking), here is the contract address in our class (Link). You can transfer to the address you want.\n",
    "\n",
    "Link: https://kdocs.cn/l/cjDl8YubTWLw\n",
    "\n",
    "\n",
    "## Parameters: \n",
    "\n",
    "a). userAdd: address you want to transfer to\n",
    "\n",
    "b). receiveBank: receipt's bank contract address (BANK_CHINA/BANK_US)\n",
    "\n",
    "c). central_Bank: RTGS contract address ()\n",
    "\n",
    "d). amountEther: require (amount >=1, has to be an integer)\n",
    "\n",
    "e). transferMoney: 0 (invalid parameter)\n",
    "\n",
    "\n",
    "![示例图片](./transfer.png)"
   ]
  },
  {
   "cell_type": "code",
   "execution_count": null,
   "metadata": {},
   "outputs": [],
   "source": []
  },
  {
   "cell_type": "raw",
   "metadata": {},
   "source": [
    "\n",
    "\n",
    "\n"
   ]
  },
  {
   "cell_type": "code",
   "execution_count": null,
   "metadata": {},
   "outputs": [],
   "source": []
  }
 ],
 "metadata": {
  "kernelspec": {
   "display_name": "Python 3",
   "language": "python",
   "name": "python3"
  },
  "language_info": {
   "codemirror_mode": {
    "name": "ipython",
    "version": 3
   },
   "file_extension": ".py",
   "mimetype": "text/x-python",
   "name": "python",
   "nbconvert_exporter": "python",
   "pygments_lexer": "ipython3",
   "version": "3.7.6"
  }
 },
 "nbformat": 4,
 "nbformat_minor": 4
}
